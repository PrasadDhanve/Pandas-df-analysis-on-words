{
 "cells": [
  {
   "cell_type": "code",
   "execution_count": 1,
   "id": "8c29a49d-0cd7-4af9-9ddb-d3a2b8d9b19b",
   "metadata": {},
   "outputs": [],
   "source": [
    "import pandas as pd"
   ]
  },
  {
   "cell_type": "code",
   "execution_count": 2,
   "id": "f383a1ad-fc2f-497c-b0cb-7ced88438fcc",
   "metadata": {},
   "outputs": [],
   "source": [
    "df = pd.read_csv('words.csv', index_col='Word')"
   ]
  },
  {
   "cell_type": "code",
   "execution_count": 3,
   "id": "7b13ff8d-53c4-4d8f-b1d2-448b39b30c59",
   "metadata": {},
   "outputs": [
    {
     "data": {
      "text/html": [
       "<div>\n",
       "<style scoped>\n",
       "    .dataframe tbody tr th:only-of-type {\n",
       "        vertical-align: middle;\n",
       "    }\n",
       "\n",
       "    .dataframe tbody tr th {\n",
       "        vertical-align: top;\n",
       "    }\n",
       "\n",
       "    .dataframe thead th {\n",
       "        text-align: right;\n",
       "    }\n",
       "</style>\n",
       "<table border=\"1\" class=\"dataframe\">\n",
       "  <thead>\n",
       "    <tr style=\"text-align: right;\">\n",
       "      <th></th>\n",
       "      <th>Char Count</th>\n",
       "      <th>Value</th>\n",
       "    </tr>\n",
       "    <tr>\n",
       "      <th>Word</th>\n",
       "      <th></th>\n",
       "      <th></th>\n",
       "    </tr>\n",
       "  </thead>\n",
       "  <tbody>\n",
       "    <tr>\n",
       "      <th>aa</th>\n",
       "      <td>2</td>\n",
       "      <td>2</td>\n",
       "    </tr>\n",
       "    <tr>\n",
       "      <th>aah</th>\n",
       "      <td>3</td>\n",
       "      <td>10</td>\n",
       "    </tr>\n",
       "    <tr>\n",
       "      <th>aahed</th>\n",
       "      <td>5</td>\n",
       "      <td>19</td>\n",
       "    </tr>\n",
       "    <tr>\n",
       "      <th>aahing</th>\n",
       "      <td>6</td>\n",
       "      <td>40</td>\n",
       "    </tr>\n",
       "    <tr>\n",
       "      <th>aahs</th>\n",
       "      <td>4</td>\n",
       "      <td>29</td>\n",
       "    </tr>\n",
       "  </tbody>\n",
       "</table>\n",
       "</div>"
      ],
      "text/plain": [
       "        Char Count  Value\n",
       "Word                     \n",
       "aa               2      2\n",
       "aah              3     10\n",
       "aahed            5     19\n",
       "aahing           6     40\n",
       "aahs             4     29"
      ]
     },
     "execution_count": 3,
     "metadata": {},
     "output_type": "execute_result"
    }
   ],
   "source": [
    "df.head()"
   ]
  },
  {
   "cell_type": "markdown",
   "id": "cf58cc11-d152-4e70-ba11-1444f44937c9",
   "metadata": {},
   "source": [
    "## How many elements does this data frame have?"
   ]
  },
  {
   "cell_type": "code",
   "execution_count": 4,
   "id": "c44e60fa-14a1-4fdd-a1af-aa71756d094f",
   "metadata": {},
   "outputs": [
    {
     "name": "stdout",
     "output_type": "stream",
     "text": [
      "<class 'pandas.core.frame.DataFrame'>\n",
      "Index: 172821 entries, aa to zyzzyvas\n",
      "Data columns (total 2 columns):\n",
      " #   Column      Non-Null Count   Dtype\n",
      "---  ------      --------------   -----\n",
      " 0   Char Count  172821 non-null  int64\n",
      " 1   Value       172821 non-null  int64\n",
      "dtypes: int64(2)\n",
      "memory usage: 4.0+ MB\n"
     ]
    }
   ],
   "source": [
    "df.info()"
   ]
  },
  {
   "cell_type": "code",
   "execution_count": 5,
   "id": "5a9c27fe-3c6d-46b7-908e-a27d811efd4f",
   "metadata": {},
   "outputs": [],
   "source": [
    "#172821"
   ]
  },
  {
   "cell_type": "markdown",
   "id": "a854d2a6-035d-4f87-9f04-8ef5c9b26012",
   "metadata": {},
   "source": [
    "## What is the value of the word 'microspectrophotometries'?"
   ]
  },
  {
   "cell_type": "code",
   "execution_count": 6,
   "id": "f324f806-9a7f-4989-bfef-6528d1504e61",
   "metadata": {},
   "outputs": [
    {
     "data": {
      "text/plain": [
       "317"
      ]
     },
     "execution_count": 6,
     "metadata": {},
     "output_type": "execute_result"
    }
   ],
   "source": [
    "value_of_microspectrophotometries = df.loc[\"microspectrophotometries\", \"Value\"]\n",
    "value_of_microspectrophotometries"
   ]
  },
  {
   "cell_type": "code",
   "execution_count": 7,
   "id": "4f3c49cd-9e2f-4aa8-ad98-f1fd271fad90",
   "metadata": {},
   "outputs": [
    {
     "name": "stdout",
     "output_type": "stream",
     "text": [
      "Value of microspectrophotometries is 317\n"
     ]
    }
   ],
   "source": [
    "print(f'Value of microspectrophotometries is {value_of_microspectrophotometries}')"
   ]
  },
  {
   "cell_type": "markdown",
   "id": "28fff15c-a131-405a-840d-f90a4e81667d",
   "metadata": {},
   "source": [
    "## What is the highest value of a word in dataframe?"
   ]
  },
  {
   "cell_type": "code",
   "execution_count": 8,
   "id": "1b017825-f633-42c9-9dc5-38a4388e0d14",
   "metadata": {},
   "outputs": [
    {
     "data": {
      "text/plain": [
       "319"
      ]
     },
     "execution_count": 8,
     "metadata": {},
     "output_type": "execute_result"
    }
   ],
   "source": [
    "highest_value = df[\"Value\"].max()\n",
    "highest_value"
   ]
  },
  {
   "cell_type": "code",
   "execution_count": 9,
   "id": "17ed63c1-4652-4ac7-b4f9-b7ca402fb174",
   "metadata": {},
   "outputs": [
    {
     "name": "stdout",
     "output_type": "stream",
     "text": [
      "highest value of a word in dataframe is 319\n"
     ]
    }
   ],
   "source": [
    "print(f'highest value of a word in dataframe is {highest_value}')"
   ]
  },
  {
   "cell_type": "markdown",
   "id": "b2ceb5b6-de10-4c67-a08f-2fea65a4759a",
   "metadata": {},
   "source": [
    "## Which of the following words have a Char Count of 7 and a Value of 87 ?\n",
    "## pinfish, glowing, superheterodyne, enfold, microbrew "
   ]
  },
  {
   "cell_type": "code",
   "execution_count": 10,
   "id": "c332143f-3d52-446a-a8ce-a3bd9d718634",
   "metadata": {},
   "outputs": [],
   "source": [
    "Options = ['pinfish', 'glowing', 'superheterodyne', 'enfold', 'microbrew']"
   ]
  },
  {
   "cell_type": "code",
   "execution_count": 11,
   "id": "b69ca7b5-4a70-429e-b3c2-925ec12d2515",
   "metadata": {},
   "outputs": [],
   "source": [
    "filtered_words = df[(df.index.isin(Options)) & (df['Char Count'] == 7) & (df['Value'] == 87)]"
   ]
  },
  {
   "cell_type": "code",
   "execution_count": 12,
   "id": "d6ece76a-605a-48a4-a8e3-9513f8a1a353",
   "metadata": {},
   "outputs": [
    {
     "data": {
      "text/html": [
       "<div>\n",
       "<style scoped>\n",
       "    .dataframe tbody tr th:only-of-type {\n",
       "        vertical-align: middle;\n",
       "    }\n",
       "\n",
       "    .dataframe tbody tr th {\n",
       "        vertical-align: top;\n",
       "    }\n",
       "\n",
       "    .dataframe thead th {\n",
       "        text-align: right;\n",
       "    }\n",
       "</style>\n",
       "<table border=\"1\" class=\"dataframe\">\n",
       "  <thead>\n",
       "    <tr style=\"text-align: right;\">\n",
       "      <th></th>\n",
       "      <th>Char Count</th>\n",
       "      <th>Value</th>\n",
       "    </tr>\n",
       "    <tr>\n",
       "      <th>Word</th>\n",
       "      <th></th>\n",
       "      <th></th>\n",
       "    </tr>\n",
       "  </thead>\n",
       "  <tbody>\n",
       "    <tr>\n",
       "      <th>glowing</th>\n",
       "      <td>7</td>\n",
       "      <td>87</td>\n",
       "    </tr>\n",
       "  </tbody>\n",
       "</table>\n",
       "</div>"
      ],
      "text/plain": [
       "         Char Count  Value\n",
       "Word                      \n",
       "glowing           7     87"
      ]
     },
     "execution_count": 12,
     "metadata": {},
     "output_type": "execute_result"
    }
   ],
   "source": [
    "filtered_words"
   ]
  },
  {
   "cell_type": "code",
   "execution_count": 13,
   "id": "b1b9967c-eb90-407b-b789-b1bb2006f0b9",
   "metadata": {},
   "outputs": [
    {
     "name": "stdout",
     "output_type": "stream",
     "text": [
      "The answer is glowing\n"
     ]
    }
   ],
   "source": [
    "print(f'The answer is {filtered_words.index[0]}')"
   ]
  },
  {
   "cell_type": "markdown",
   "id": "6c7ebdb6-dfa0-4fe1-8d97-78a1262e3581",
   "metadata": {},
   "source": [
    "## What is the highest possible length of a word?"
   ]
  },
  {
   "cell_type": "code",
   "execution_count": 14,
   "id": "5864ebf1-6b9e-4ac2-b4b8-6ac1f4f8607e",
   "metadata": {},
   "outputs": [
    {
     "data": {
      "text/plain": [
       "28"
      ]
     },
     "execution_count": 14,
     "metadata": {},
     "output_type": "execute_result"
    }
   ],
   "source": [
    "longest_word = df['Char Count'].max()\n",
    "longest_word"
   ]
  },
  {
   "cell_type": "code",
   "execution_count": 15,
   "id": "609fbfc8-ee4d-4036-b7ef-c72f07c17d29",
   "metadata": {},
   "outputs": [
    {
     "name": "stdout",
     "output_type": "stream",
     "text": [
      "highest possible length of a word is 28\n"
     ]
    }
   ],
   "source": [
    "print(f'highest possible length of a word is {longest_word}')"
   ]
  },
  {
   "cell_type": "markdown",
   "id": "59899813-2eea-4cb2-b271-1a8453456845",
   "metadata": {},
   "source": [
    "## The word microspectrophotometries is the only word with a value of 317. Find the only word with a value of 319"
   ]
  },
  {
   "cell_type": "code",
   "execution_count": 16,
   "id": "bfb568cb-5d1d-4977-b95d-19313fa47a48",
   "metadata": {},
   "outputs": [
    {
     "data": {
      "text/html": [
       "<div>\n",
       "<style scoped>\n",
       "    .dataframe tbody tr th:only-of-type {\n",
       "        vertical-align: middle;\n",
       "    }\n",
       "\n",
       "    .dataframe tbody tr th {\n",
       "        vertical-align: top;\n",
       "    }\n",
       "\n",
       "    .dataframe thead th {\n",
       "        text-align: right;\n",
       "    }\n",
       "</style>\n",
       "<table border=\"1\" class=\"dataframe\">\n",
       "  <thead>\n",
       "    <tr style=\"text-align: right;\">\n",
       "      <th></th>\n",
       "      <th>Char Count</th>\n",
       "      <th>Value</th>\n",
       "    </tr>\n",
       "    <tr>\n",
       "      <th>Word</th>\n",
       "      <th></th>\n",
       "      <th></th>\n",
       "    </tr>\n",
       "  </thead>\n",
       "  <tbody>\n",
       "    <tr>\n",
       "      <th>reinstitutionalizations</th>\n",
       "      <td>23</td>\n",
       "      <td>319</td>\n",
       "    </tr>\n",
       "  </tbody>\n",
       "</table>\n",
       "</div>"
      ],
      "text/plain": [
       "                         Char Count  Value\n",
       "Word                                      \n",
       "reinstitutionalizations          23    319"
      ]
     },
     "execution_count": 16,
     "metadata": {},
     "output_type": "execute_result"
    }
   ],
   "source": [
    "value_319 = df[df[\"Value\"] == 319]\n",
    "value_319"
   ]
  },
  {
   "cell_type": "code",
   "execution_count": 17,
   "id": "dab45fab-a791-4ab8-8e14-69a7df1629bc",
   "metadata": {},
   "outputs": [
    {
     "name": "stdout",
     "output_type": "stream",
     "text": [
      "The only word with a value of 319 is reinstitutionalizations\n"
     ]
    }
   ],
   "source": [
    "print(f'The only word with a value of 319 is {value_319.index[0]}')"
   ]
  },
  {
   "cell_type": "markdown",
   "id": "6d4868b1-3f01-4fe2-9563-6c24fdc9514b",
   "metadata": {},
   "source": [
    "## There are 1921 words with a value of 100, making it the second most common letter sum. What value is most common?"
   ]
  },
  {
   "cell_type": "code",
   "execution_count": 18,
   "id": "b70d1948-6495-4b8e-9f85-9c68743b4596",
   "metadata": {},
   "outputs": [
    {
     "data": {
      "text/plain": [
       "Value\n",
       "93    1965\n",
       "Name: count, dtype: int64"
      ]
     },
     "execution_count": 18,
     "metadata": {},
     "output_type": "execute_result"
    }
   ],
   "source": [
    "most_common_value = df[\"Value\"].value_counts().head(1)\n",
    "most_common_value"
   ]
  },
  {
   "cell_type": "code",
   "execution_count": 19,
   "id": "8f5469ff-bd8b-44c9-86fb-6351f24d1342",
   "metadata": {},
   "outputs": [
    {
     "name": "stdout",
     "output_type": "stream",
     "text": [
      "The most common value is 93\n"
     ]
    }
   ],
   "source": [
    "print(f'The most common value is {most_common_value.index[0]}')"
   ]
  },
  {
   "cell_type": "markdown",
   "id": "6b249508-2541-474f-ac0a-0f5465612505",
   "metadata": {},
   "source": [
    "## What is the shortest word with value 274?"
   ]
  },
  {
   "cell_type": "code",
   "execution_count": 20,
   "id": "96c0a01a-eb48-461a-8d76-f89d10719585",
   "metadata": {},
   "outputs": [
    {
     "data": {
      "text/html": [
       "<div>\n",
       "<style scoped>\n",
       "    .dataframe tbody tr th:only-of-type {\n",
       "        vertical-align: middle;\n",
       "    }\n",
       "\n",
       "    .dataframe tbody tr th {\n",
       "        vertical-align: top;\n",
       "    }\n",
       "\n",
       "    .dataframe thead th {\n",
       "        text-align: right;\n",
       "    }\n",
       "</style>\n",
       "<table border=\"1\" class=\"dataframe\">\n",
       "  <thead>\n",
       "    <tr style=\"text-align: right;\">\n",
       "      <th></th>\n",
       "      <th>Char Count</th>\n",
       "      <th>Value</th>\n",
       "    </tr>\n",
       "    <tr>\n",
       "      <th>Word</th>\n",
       "      <th></th>\n",
       "      <th></th>\n",
       "    </tr>\n",
       "  </thead>\n",
       "  <tbody>\n",
       "    <tr>\n",
       "      <th>overprotectivenesses</th>\n",
       "      <td>20</td>\n",
       "      <td>274</td>\n",
       "    </tr>\n",
       "  </tbody>\n",
       "</table>\n",
       "</div>"
      ],
      "text/plain": [
       "                      Char Count  Value\n",
       "Word                                   \n",
       "overprotectivenesses          20    274"
      ]
     },
     "execution_count": 20,
     "metadata": {},
     "output_type": "execute_result"
    }
   ],
   "source": [
    "shortest_word_V274 = df[df[\"Value\"] == 274].sort_values(\"Char Count\", ascending = True).head(1)\n",
    "shortest_word_V274"
   ]
  },
  {
   "cell_type": "code",
   "execution_count": 21,
   "id": "5d6d8452-36da-4f8f-b3ac-ddeedcd821ab",
   "metadata": {},
   "outputs": [
    {
     "name": "stdout",
     "output_type": "stream",
     "text": [
      "The shortest word with value 274 is overprotectivenesses\n"
     ]
    }
   ],
   "source": [
    "print(f'The shortest word with value 274 is {shortest_word_V274.index[0]}')"
   ]
  },
  {
   "cell_type": "markdown",
   "id": "d563e1c5-c268-4efa-b65f-c9c61b38c0da",
   "metadata": {},
   "source": [
    "\n",
    "## The \"Value Ratio\" of a word is defined as the Value of a word divided by its length. That is: ValueRatio(word) = Value(word) / len(word). Create a new column in your DataFrame named Ratio that contains such computation."
   ]
  },
  {
   "cell_type": "code",
   "execution_count": 22,
   "id": "a0cf8a20-9bdf-4af7-ae4b-8712e65019c9",
   "metadata": {},
   "outputs": [
    {
     "data": {
      "text/html": [
       "<div>\n",
       "<style scoped>\n",
       "    .dataframe tbody tr th:only-of-type {\n",
       "        vertical-align: middle;\n",
       "    }\n",
       "\n",
       "    .dataframe tbody tr th {\n",
       "        vertical-align: top;\n",
       "    }\n",
       "\n",
       "    .dataframe thead th {\n",
       "        text-align: right;\n",
       "    }\n",
       "</style>\n",
       "<table border=\"1\" class=\"dataframe\">\n",
       "  <thead>\n",
       "    <tr style=\"text-align: right;\">\n",
       "      <th></th>\n",
       "      <th>Char Count</th>\n",
       "      <th>Value</th>\n",
       "      <th>Ratio</th>\n",
       "    </tr>\n",
       "    <tr>\n",
       "      <th>Word</th>\n",
       "      <th></th>\n",
       "      <th></th>\n",
       "      <th></th>\n",
       "    </tr>\n",
       "  </thead>\n",
       "  <tbody>\n",
       "    <tr>\n",
       "      <th>aa</th>\n",
       "      <td>2</td>\n",
       "      <td>2</td>\n",
       "      <td>1.000000</td>\n",
       "    </tr>\n",
       "    <tr>\n",
       "      <th>aah</th>\n",
       "      <td>3</td>\n",
       "      <td>10</td>\n",
       "      <td>3.333333</td>\n",
       "    </tr>\n",
       "    <tr>\n",
       "      <th>aahed</th>\n",
       "      <td>5</td>\n",
       "      <td>19</td>\n",
       "      <td>3.800000</td>\n",
       "    </tr>\n",
       "    <tr>\n",
       "      <th>aahing</th>\n",
       "      <td>6</td>\n",
       "      <td>40</td>\n",
       "      <td>6.666667</td>\n",
       "    </tr>\n",
       "    <tr>\n",
       "      <th>aahs</th>\n",
       "      <td>4</td>\n",
       "      <td>29</td>\n",
       "      <td>7.250000</td>\n",
       "    </tr>\n",
       "  </tbody>\n",
       "</table>\n",
       "</div>"
      ],
      "text/plain": [
       "        Char Count  Value     Ratio\n",
       "Word                               \n",
       "aa               2      2  1.000000\n",
       "aah              3     10  3.333333\n",
       "aahed            5     19  3.800000\n",
       "aahing           6     40  6.666667\n",
       "aahs             4     29  7.250000"
      ]
     },
     "execution_count": 22,
     "metadata": {},
     "output_type": "execute_result"
    }
   ],
   "source": [
    "df['Ratio'] = df[\"Value\"] / df[\"Char Count\"]\n",
    "df.head(5)"
   ]
  },
  {
   "cell_type": "markdown",
   "id": "5f5a6850-5976-4a0e-8ccc-1745de28c99c",
   "metadata": {},
   "source": [
    "## What is the maximum value of Ratio?"
   ]
  },
  {
   "cell_type": "code",
   "execution_count": 23,
   "id": "2e33a30c-9141-49d4-8115-b621120c08dd",
   "metadata": {},
   "outputs": [
    {
     "data": {
      "text/plain": [
       "22.5"
      ]
     },
     "execution_count": 23,
     "metadata": {},
     "output_type": "execute_result"
    }
   ],
   "source": [
    "max_ratio =  df[\"Ratio\"].max()\n",
    "max_ratio"
   ]
  },
  {
   "cell_type": "code",
   "execution_count": 24,
   "id": "0e3b548b-4ab0-4f93-9d6b-6403f596ad1f",
   "metadata": {},
   "outputs": [
    {
     "name": "stdout",
     "output_type": "stream",
     "text": [
      "Maximum value of Ratio is 22.5\n"
     ]
    }
   ],
   "source": [
    "print(f'Maximum value of Ratio is {max_ratio}')"
   ]
  },
  {
   "cell_type": "markdown",
   "id": "2610b581-c6be-4f44-9f49-f75ee08b15e2",
   "metadata": {},
   "source": [
    "## What word is the one with the highest Ratio?"
   ]
  },
  {
   "cell_type": "code",
   "execution_count": 25,
   "id": "0b214d0d-15c0-497b-b0d0-eb1f0cbe1413",
   "metadata": {},
   "outputs": [
    {
     "data": {
      "text/html": [
       "<div>\n",
       "<style scoped>\n",
       "    .dataframe tbody tr th:only-of-type {\n",
       "        vertical-align: middle;\n",
       "    }\n",
       "\n",
       "    .dataframe tbody tr th {\n",
       "        vertical-align: top;\n",
       "    }\n",
       "\n",
       "    .dataframe thead th {\n",
       "        text-align: right;\n",
       "    }\n",
       "</style>\n",
       "<table border=\"1\" class=\"dataframe\">\n",
       "  <thead>\n",
       "    <tr style=\"text-align: right;\">\n",
       "      <th></th>\n",
       "      <th>Char Count</th>\n",
       "      <th>Value</th>\n",
       "      <th>Ratio</th>\n",
       "    </tr>\n",
       "    <tr>\n",
       "      <th>Word</th>\n",
       "      <th></th>\n",
       "      <th></th>\n",
       "      <th></th>\n",
       "    </tr>\n",
       "  </thead>\n",
       "  <tbody>\n",
       "    <tr>\n",
       "      <th>xu</th>\n",
       "      <td>2</td>\n",
       "      <td>45</td>\n",
       "      <td>22.5</td>\n",
       "    </tr>\n",
       "  </tbody>\n",
       "</table>\n",
       "</div>"
      ],
      "text/plain": [
       "      Char Count  Value  Ratio\n",
       "Word                          \n",
       "xu             2     45   22.5"
      ]
     },
     "execution_count": 25,
     "metadata": {},
     "output_type": "execute_result"
    }
   ],
   "source": [
    "max_ratio_word = df[df[\"Ratio\"] == df[\"Ratio\"].max()]\n",
    "max_ratio_word"
   ]
  },
  {
   "cell_type": "code",
   "execution_count": 26,
   "id": "c6069d3d-0dd2-4eca-bc30-bf1226cd0735",
   "metadata": {},
   "outputs": [
    {
     "name": "stdout",
     "output_type": "stream",
     "text": [
      "Word with the highest Ratio is xu\n"
     ]
    }
   ],
   "source": [
    "print(f'Word with the highest Ratio is {max_ratio_word.index[0]}')"
   ]
  },
  {
   "cell_type": "markdown",
   "id": "f5fc93d6-9ef1-4cc1-855f-4b5197eb494f",
   "metadata": {},
   "source": [
    "## How many words have a Ratio of 10?"
   ]
  },
  {
   "cell_type": "code",
   "execution_count": 27,
   "id": "251301c8-5c46-4f9e-9079-c0fa66fcc380",
   "metadata": {},
   "outputs": [
    {
     "data": {
      "text/plain": [
       "(2604, 3)"
      ]
     },
     "execution_count": 27,
     "metadata": {},
     "output_type": "execute_result"
    }
   ],
   "source": [
    "Ratio_of_10 = df[df[\"Ratio\"] == 10].shape\n",
    "Ratio_of_10"
   ]
  },
  {
   "cell_type": "code",
   "execution_count": 28,
   "id": "c91ee0c4-0968-4249-9471-d0731d419cd4",
   "metadata": {},
   "outputs": [
    {
     "name": "stdout",
     "output_type": "stream",
     "text": [
      "There are 2604 words with ratio 10\n"
     ]
    }
   ],
   "source": [
    "print(f'There are {Ratio_of_10[0]} words with ratio 10')"
   ]
  },
  {
   "cell_type": "markdown",
   "id": "e1891d0b-bdef-4d84-85b4-be013bb61cf0",
   "metadata": {},
   "source": [
    "## What is the maximum Value of all the words with a Ratio of 10?"
   ]
  },
  {
   "cell_type": "code",
   "execution_count": 29,
   "id": "7154834c-417a-4869-becc-5d80a753b42b",
   "metadata": {},
   "outputs": [
    {
     "data": {
      "text/plain": [
       "240"
      ]
     },
     "execution_count": 29,
     "metadata": {},
     "output_type": "execute_result"
    }
   ],
   "source": [
    "max_value_of_R10 = df.loc[df[\"Ratio\"] == 10, \"Value\"].max()\n",
    "max_value_of_R10"
   ]
  },
  {
   "cell_type": "code",
   "execution_count": 30,
   "id": "0f65495d-7307-485f-ab58-b07a0503cc95",
   "metadata": {},
   "outputs": [
    {
     "name": "stdout",
     "output_type": "stream",
     "text": [
      "maximum Value of all the words with a Ratio of 10 is 240\n"
     ]
    }
   ],
   "source": [
    "print(f'maximum Value of all the words with a Ratio of 10 is {max_value_of_R10}')"
   ]
  },
  {
   "cell_type": "markdown",
   "id": "acd8523e-8460-4cb2-a04e-e2c02c011788",
   "metadata": {},
   "source": [
    "## Of those words with a Value of 260, what is the lowest Char Count found?"
   ]
  },
  {
   "cell_type": "code",
   "execution_count": 31,
   "id": "ebe54475-f69d-4fa2-b141-a6a82e13157f",
   "metadata": {},
   "outputs": [
    {
     "data": {
      "text/plain": [
       "17"
      ]
     },
     "execution_count": 31,
     "metadata": {},
     "output_type": "execute_result"
    }
   ],
   "source": [
    "lowest_Char_Count_V260 = df.loc[df[\"Value\"] == 260, \"Char Count\"].min()\n",
    "lowest_Char_Count_V260"
   ]
  },
  {
   "cell_type": "code",
   "execution_count": 32,
   "id": "b92c9d39-cf24-4fcc-9a8f-ae1d2356d247",
   "metadata": {},
   "outputs": [
    {
     "name": "stdout",
     "output_type": "stream",
     "text": [
      "lowest Char Count of word with value 260 is 17\n"
     ]
    }
   ],
   "source": [
    "print(f'lowest Char Count of word with value 260 is {lowest_Char_Count_V260}')"
   ]
  },
  {
   "cell_type": "markdown",
   "id": "46de859f-4b75-4254-96fb-769be0542d2d",
   "metadata": {},
   "source": [
    "## Which word has a Value of 260 and has the lowest Char Count?"
   ]
  },
  {
   "cell_type": "code",
   "execution_count": 33,
   "id": "d46cf15e-0027-42a7-9dfb-1e81ec0a8de9",
   "metadata": {},
   "outputs": [
    {
     "data": {
      "text/html": [
       "<div>\n",
       "<style scoped>\n",
       "    .dataframe tbody tr th:only-of-type {\n",
       "        vertical-align: middle;\n",
       "    }\n",
       "\n",
       "    .dataframe tbody tr th {\n",
       "        vertical-align: top;\n",
       "    }\n",
       "\n",
       "    .dataframe thead th {\n",
       "        text-align: right;\n",
       "    }\n",
       "</style>\n",
       "<table border=\"1\" class=\"dataframe\">\n",
       "  <thead>\n",
       "    <tr style=\"text-align: right;\">\n",
       "      <th></th>\n",
       "      <th>Char Count</th>\n",
       "      <th>Value</th>\n",
       "      <th>Ratio</th>\n",
       "    </tr>\n",
       "    <tr>\n",
       "      <th>Word</th>\n",
       "      <th></th>\n",
       "      <th></th>\n",
       "      <th></th>\n",
       "    </tr>\n",
       "  </thead>\n",
       "  <tbody>\n",
       "    <tr>\n",
       "      <th>hydroxytryptamine</th>\n",
       "      <td>17</td>\n",
       "      <td>260</td>\n",
       "      <td>15.294118</td>\n",
       "    </tr>\n",
       "  </tbody>\n",
       "</table>\n",
       "</div>"
      ],
      "text/plain": [
       "                   Char Count  Value      Ratio\n",
       "Word                                           \n",
       "hydroxytryptamine          17    260  15.294118"
      ]
     },
     "execution_count": 33,
     "metadata": {},
     "output_type": "execute_result"
    }
   ],
   "source": [
    "word_lowest_Char_Count_V260 = df.loc[(df[\"Value\"] == 260) & (df[\"Char Count\"] == lowest_Char_Count_V260)]\n",
    "word_lowest_Char_Count_V260"
   ]
  },
  {
   "cell_type": "code",
   "execution_count": 34,
   "id": "abf8c32f-5e63-48d2-a8ba-4d4fbbdc396f",
   "metadata": {},
   "outputs": [
    {
     "name": "stdout",
     "output_type": "stream",
     "text": [
      "Lowest char count of word having value is hydroxytryptamine\n"
     ]
    }
   ],
   "source": [
    "print(f'Lowest char count of word having value is {word_lowest_Char_Count_V260.index[0]}')"
   ]
  }
 ],
 "metadata": {
  "kernelspec": {
   "display_name": "Python 3 (ipykernel)",
   "language": "python",
   "name": "python3"
  },
  "language_info": {
   "codemirror_mode": {
    "name": "ipython",
    "version": 3
   },
   "file_extension": ".py",
   "mimetype": "text/x-python",
   "name": "python",
   "nbconvert_exporter": "python",
   "pygments_lexer": "ipython3",
   "version": "3.10.13"
  }
 },
 "nbformat": 4,
 "nbformat_minor": 5
}
